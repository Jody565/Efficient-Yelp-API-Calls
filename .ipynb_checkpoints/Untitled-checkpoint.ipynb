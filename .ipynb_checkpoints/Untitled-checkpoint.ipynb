{
 "cells": [
  {
   "cell_type": "code",
   "execution_count": 1,
   "id": "7cf061f9-68e2-4930-8d0f-13aa268fc9fe",
   "metadata": {},
   "outputs": [],
   "source": [
    "import numpy as np\n",
    "import pandas as pd"
   ]
  },
  {
   "cell_type": "code",
   "execution_count": 2,
   "id": "f9785226-3a0f-4f80-94fb-5b643cff48ab",
   "metadata": {},
   "outputs": [],
   "source": [
    "import os, json, math, time"
   ]
  },
  {
   "cell_type": "code",
   "execution_count": 3,
   "id": "fd65b529-8bd7-4516-a004-630f73a148f5",
   "metadata": {},
   "outputs": [
    {
     "name": "stdout",
     "output_type": "stream",
     "text": [
      "Requirement already satisfied: yelpapi in c:\\users\\om93405\\appdata\\local\\anaconda3\\envs\\dojo-env\\lib\\site-packages (2.5.1)\n",
      "Requirement already satisfied: requests in c:\\users\\om93405\\appdata\\local\\anaconda3\\envs\\dojo-env\\lib\\site-packages (from yelpapi) (2.29.0)\n",
      "Requirement already satisfied: charset-normalizer<4,>=2 in c:\\users\\om93405\\appdata\\local\\anaconda3\\envs\\dojo-env\\lib\\site-packages (from requests->yelpapi) (2.0.4)\n",
      "Requirement already satisfied: idna<4,>=2.5 in c:\\users\\om93405\\appdata\\local\\anaconda3\\envs\\dojo-env\\lib\\site-packages (from requests->yelpapi) (3.4)\n",
      "Requirement already satisfied: urllib3<1.27,>=1.21.1 in c:\\users\\om93405\\appdata\\local\\anaconda3\\envs\\dojo-env\\lib\\site-packages (from requests->yelpapi) (1.26.15)\n",
      "Requirement already satisfied: certifi>=2017.4.17 in c:\\users\\om93405\\appdata\\local\\anaconda3\\envs\\dojo-env\\lib\\site-packages (from requests->yelpapi) (2023.5.7)\n"
     ]
    }
   ],
   "source": [
    "!pip install yelpapi"
   ]
  },
  {
   "cell_type": "code",
   "execution_count": 4,
   "id": "1f1b5224-07fc-4c5a-9d7c-5a49d0e6cfd8",
   "metadata": {},
   "outputs": [],
   "source": [
    "import sys"
   ]
  },
  {
   "cell_type": "code",
   "execution_count": 5,
   "id": "979d6c3f-27ee-4440-9fb0-6071ac332c63",
   "metadata": {},
   "outputs": [],
   "source": [
    "sys.path.append(\"c:/users/om93405/appdata/local/anaconda3/envs/dojo-env/lib/site-packages\")"
   ]
  },
  {
   "cell_type": "code",
   "execution_count": 6,
   "id": "10762354-6215-46d0-a673-a89c5a37e6c9",
   "metadata": {},
   "outputs": [],
   "source": [
    "from yelpapi import YelpAPI"
   ]
  },
  {
   "cell_type": "code",
   "execution_count": 7,
   "id": "01c4adc0-4c58-4823-8565-853d49de84ad",
   "metadata": {},
   "outputs": [],
   "source": [
    "from tqdm.notebook import tqdm_notebook"
   ]
  },
  {
   "cell_type": "code",
   "execution_count": 8,
   "id": "86e478ac-dead-4705-9aa0-68f15e1ff113",
   "metadata": {},
   "outputs": [
    {
     "data": {
      "text/plain": [
       "dict_keys(['client-id', 'api-key'])"
      ]
     },
     "execution_count": 8,
     "metadata": {},
     "output_type": "execute_result"
    }
   ],
   "source": [
    "import json\n",
    "with open('/Users/om93405/.secret/yelp_api.json') as f: \n",
    "    login = json.load(f)\n",
    "login.keys()"
   ]
  },
  {
   "cell_type": "code",
   "execution_count": 9,
   "id": "8c5be013-d463-45d0-948b-4b2c5c787077",
   "metadata": {},
   "outputs": [],
   "source": [
    "yelp_api = YelpAPI(login['api-key'], timeout_s=5.0)"
   ]
  },
  {
   "cell_type": "code",
   "execution_count": 10,
   "id": "756da1b6-686b-4920-b13f-38aa173a8370",
   "metadata": {},
   "outputs": [],
   "source": [
    "location = 'Seattle, WA 98122'\n",
    "term = 'pizza'"
   ]
  },
  {
   "cell_type": "code",
   "execution_count": 11,
   "id": "a915acdd-2e00-4074-9a67-1f163a6cf782",
   "metadata": {},
   "outputs": [
    {
     "data": {
      "text/plain": [
       "'Seattle'"
      ]
     },
     "execution_count": 11,
     "metadata": {},
     "output_type": "execute_result"
    }
   ],
   "source": [
    "location.split(',')[0]"
   ]
  },
  {
   "cell_type": "code",
   "execution_count": 12,
   "id": "fd73c365-2170-49e8-a04a-c66fee8c9cb7",
   "metadata": {},
   "outputs": [
    {
     "data": {
      "text/plain": [
       "'Data/results_in_progress_seattle_pizza.json'"
      ]
     },
     "execution_count": 12,
     "metadata": {},
     "output_type": "execute_result"
    }
   ],
   "source": [
    "JSON_FILE = \"Data/results_in_progress_seattle_pizza.json\"\n",
    "JSON_FILE"
   ]
  },
  {
   "cell_type": "code",
   "execution_count": 13,
   "id": "1baf4b0c-0d4d-4a51-8a2b-841b750582e6",
   "metadata": {},
   "outputs": [
    {
     "name": "stdout",
     "output_type": "stream",
     "text": [
      "[i] Data/results_in_progress_seattle_pizza.json not found. Saving empty list to file.\n"
     ]
    }
   ],
   "source": [
    "## Check if JSON_FILE exists\n",
    "file_exists = os.path.isfile(JSON_FILE)\n",
    "## If it does not exist: \n",
    "if file_exists == False:\n",
    "    \n",
    "    ## CREATE ANY NEEDED FOLDERS\n",
    "    # Get the Folder Name only\n",
    "    folder = os.path.dirname(JSON_FILE)\n",
    "    ## If JSON_FILE included a folder:\n",
    "    if len(folder)>0:\n",
    "        # create the folder\n",
    "        os.makedirs(folder,exist_ok=True)\n",
    "        \n",
    "        \n",
    "    ## INFORM USER AND SAVE EMPTY LIST\n",
    "    print(f'[i] {JSON_FILE} not found. Saving empty list to file.')\n",
    "    \n",
    "    \n",
    "    # save an empty list\n",
    "    with open(JSON_FILE,'w') as f:\n",
    "        json.dump([],f)  \n",
    "# If it exists, inform user\n",
    "else:\n",
    "    print(f\"[i] {JSON_FILE} already exists.\")"
   ]
  },
  {
   "cell_type": "code",
   "execution_count": 14,
   "id": "31e381d5-0f29-49a3-b72d-cc28d1ca4289",
   "metadata": {},
   "outputs": [
    {
     "name": "stdout",
     "output_type": "stream",
     "text": [
      "- 0 previous results found.\n"
     ]
    }
   ],
   "source": [
    "with open(JSON_FILE,'r') as f:\n",
    "    previous_results = json.load(f)\n",
    "    \n",
    "## set offset based on previous results\n",
    "n_results = len(previous_results)\n",
    "print(f'- {n_results} previous results found.')"
   ]
  },
  {
   "cell_type": "code",
   "execution_count": 15,
   "id": "d540b57b-d4b0-46ce-93a6-6046480ae21a",
   "metadata": {},
   "outputs": [
    {
     "data": {
      "text/plain": [
       "dict_keys(['businesses', 'total', 'region'])"
      ]
     },
     "execution_count": 15,
     "metadata": {},
     "output_type": "execute_result"
    }
   ],
   "source": [
    "results = yelp_api.search_query(location=location,\n",
    "                                term=term,\n",
    "                               offset=n_results)\n",
    "results.keys()"
   ]
  },
  {
   "cell_type": "code",
   "execution_count": 16,
   "id": "c7e62e1a-84d2-4848-ad61-cfdff41931fd",
   "metadata": {},
   "outputs": [
    {
     "data": {
      "text/plain": [
       "dict"
      ]
     },
     "execution_count": 16,
     "metadata": {},
     "output_type": "execute_result"
    }
   ],
   "source": [
    "type(results)"
   ]
  },
  {
   "cell_type": "code",
   "execution_count": 17,
   "id": "7dc36b01-bf21-498c-b7a1-265e17e11723",
   "metadata": {},
   "outputs": [
    {
     "data": {
      "text/plain": [
       "3"
      ]
     },
     "execution_count": 17,
     "metadata": {},
     "output_type": "execute_result"
    }
   ],
   "source": [
    "len(results)"
   ]
  },
  {
   "cell_type": "code",
   "execution_count": 18,
   "id": "b689758e-2bc5-4e26-afea-ab98d7d0fe22",
   "metadata": {},
   "outputs": [
    {
     "data": {
      "text/plain": [
       "858"
      ]
     },
     "execution_count": 18,
     "metadata": {},
     "output_type": "execute_result"
    }
   ],
   "source": [
    "results['total']"
   ]
  },
  {
   "cell_type": "code",
   "execution_count": 19,
   "id": "761252c6-7f07-4317-953b-0421b9f9095d",
   "metadata": {},
   "outputs": [
    {
     "data": {
      "text/plain": [
       "{'center': {'longitude': -122.29568481445312, 'latitude': 47.61309534151991}}"
      ]
     },
     "execution_count": 19,
     "metadata": {},
     "output_type": "execute_result"
    }
   ],
   "source": [
    "results['region']"
   ]
  },
  {
   "cell_type": "code",
   "execution_count": 20,
   "id": "57b2d321-d93c-4229-86c5-c453b7a6d036",
   "metadata": {},
   "outputs": [
    {
     "data": {
      "text/plain": [
       "[{'id': 'sx8OeNntGUg3BzQV_L8z6g',\n",
       "  'alias': 'jackson-street-pizza-lounge-seattle',\n",
       "  'name': 'Jackson Street Pizza Lounge',\n",
       "  'image_url': 'https://s3-media3.fl.yelpcdn.com/bphoto/X9EeTjVjULdmyW9XMowPYA/o.jpg',\n",
       "  'is_closed': False,\n",
       "  'url': 'https://www.yelp.com/biz/jackson-street-pizza-lounge-seattle?adjust_creative=YgmNDOo-e5tb1fZ-0ge60w&utm_campaign=yelp_api_v3&utm_medium=api_v3_business_search&utm_source=YgmNDOo-e5tb1fZ-0ge60w',\n",
       "  'review_count': 17,\n",
       "  'categories': [{'alias': 'cocktailbars', 'title': 'Cocktail Bars'},\n",
       "   {'alias': 'pizza', 'title': 'Pizza'}],\n",
       "  'rating': 4.0,\n",
       "  'coordinates': {'latitude': 47.59916307243915,\n",
       "   'longitude': -122.2948217963242},\n",
       "  'transactions': [],\n",
       "  'location': {'address1': '2901 S Jackson St',\n",
       "   'address2': '',\n",
       "   'address3': None,\n",
       "   'city': 'Seattle',\n",
       "   'zip_code': '98144',\n",
       "   'country': 'US',\n",
       "   'state': 'WA',\n",
       "   'display_address': ['2901 S Jackson St', 'Seattle, WA 98144']},\n",
       "  'phone': '+12064857118',\n",
       "  'display_phone': '(206) 485-7118',\n",
       "  'distance': 1550.5464085634417},\n",
       " {'id': 'EwrAoy7XbX8nfemZdDvupA',\n",
       "  'alias': 'cornelly-seattle',\n",
       "  'name': 'Cornelly',\n",
       "  'image_url': 'https://s3-media4.fl.yelpcdn.com/bphoto/HlYYBTxylVQf6C-WZy-Ghw/o.jpg',\n",
       "  'is_closed': False,\n",
       "  'url': 'https://www.yelp.com/biz/cornelly-seattle?adjust_creative=YgmNDOo-e5tb1fZ-0ge60w&utm_campaign=yelp_api_v3&utm_medium=api_v3_business_search&utm_source=YgmNDOo-e5tb1fZ-0ge60w',\n",
       "  'review_count': 143,\n",
       "  'categories': [{'alias': 'pizza', 'title': 'Pizza'},\n",
       "   {'alias': 'salad', 'title': 'Salad'},\n",
       "   {'alias': 'pastashops', 'title': 'Pasta Shops'}],\n",
       "  'rating': 4.5,\n",
       "  'coordinates': {'latitude': 47.624577, 'longitude': -122.325577},\n",
       "  'transactions': ['pickup'],\n",
       "  'price': '$$',\n",
       "  'location': {'address1': '601 Summit Ave E',\n",
       "   'address2': '',\n",
       "   'address3': None,\n",
       "   'city': 'Seattle',\n",
       "   'zip_code': '98102',\n",
       "   'country': 'US',\n",
       "   'state': 'WA',\n",
       "   'display_address': ['601 Summit Ave E', 'Seattle, WA 98102']},\n",
       "  'phone': '',\n",
       "  'display_phone': '',\n",
       "  'distance': 2578.701392645466},\n",
       " {'id': 'ENxs0vvtkJYxQqaZ3sbEjw',\n",
       "  'alias': 'my-friend-dereks-seattle',\n",
       "  'name': \"My Friend Derek's\",\n",
       "  'image_url': 'https://s3-media1.fl.yelpcdn.com/bphoto/MVV6S3YJu9jzLV0vZ2nsxQ/o.jpg',\n",
       "  'is_closed': False,\n",
       "  'url': 'https://www.yelp.com/biz/my-friend-dereks-seattle?adjust_creative=YgmNDOo-e5tb1fZ-0ge60w&utm_campaign=yelp_api_v3&utm_medium=api_v3_business_search&utm_source=YgmNDOo-e5tb1fZ-0ge60w',\n",
       "  'review_count': 34,\n",
       "  'categories': [{'alias': 'foodtrucks', 'title': 'Food Trucks'},\n",
       "   {'alias': 'pizza', 'title': 'Pizza'}],\n",
       "  'rating': 5.0,\n",
       "  'coordinates': {'latitude': 47.651515, 'longitude': -122.343613},\n",
       "  'transactions': [],\n",
       "  'location': {'address1': '3632 Woodland Park Ave N',\n",
       "   'address2': '',\n",
       "   'address3': None,\n",
       "   'city': 'Seattle',\n",
       "   'zip_code': '98103',\n",
       "   'country': 'US',\n",
       "   'state': 'WA',\n",
       "   'display_address': ['3632 Woodland Park Ave N', 'Seattle, WA 98103']},\n",
       "  'phone': '',\n",
       "  'display_phone': '',\n",
       "  'distance': 5581.31044371931},\n",
       " {'id': 'fxyHWmfzcdjImgQ_UYHoTw',\n",
       "  'alias': 'bar-cotto-seattle',\n",
       "  'name': 'Bar Cotto',\n",
       "  'image_url': 'https://s3-media1.fl.yelpcdn.com/bphoto/UNfR-J2OlsFgPDC6lzCEZw/o.jpg',\n",
       "  'is_closed': False,\n",
       "  'url': 'https://www.yelp.com/biz/bar-cotto-seattle?adjust_creative=YgmNDOo-e5tb1fZ-0ge60w&utm_campaign=yelp_api_v3&utm_medium=api_v3_business_search&utm_source=YgmNDOo-e5tb1fZ-0ge60w',\n",
       "  'review_count': 370,\n",
       "  'categories': [{'alias': 'bars', 'title': 'Bars'},\n",
       "   {'alias': 'pizza', 'title': 'Pizza'},\n",
       "   {'alias': 'italian', 'title': 'Italian'}],\n",
       "  'rating': 4.5,\n",
       "  'coordinates': {'latitude': 47.6146934, 'longitude': -122.3127642},\n",
       "  'transactions': ['delivery', 'pickup'],\n",
       "  'price': '$$',\n",
       "  'location': {'address1': '1546 15th Ave',\n",
       "   'address2': '',\n",
       "   'address3': '',\n",
       "   'city': 'Seattle',\n",
       "   'zip_code': '98122',\n",
       "   'country': 'US',\n",
       "   'state': 'WA',\n",
       "   'display_address': ['1546 15th Ave', 'Seattle, WA 98122']},\n",
       "  'phone': '+12068388081',\n",
       "  'display_phone': '(206) 838-8081',\n",
       "  'distance': 1292.526796461093},\n",
       " {'id': 'FVbwpNA1uZEGiM02N4XtUg',\n",
       "  'alias': 'blotto-seattle',\n",
       "  'name': 'Blotto',\n",
       "  'image_url': 'https://s3-media3.fl.yelpcdn.com/bphoto/Q4Y1CwKmapk89MYpoxCu7Q/o.jpg',\n",
       "  'is_closed': False,\n",
       "  'url': 'https://www.yelp.com/biz/blotto-seattle?adjust_creative=YgmNDOo-e5tb1fZ-0ge60w&utm_campaign=yelp_api_v3&utm_medium=api_v3_business_search&utm_source=YgmNDOo-e5tb1fZ-0ge60w',\n",
       "  'review_count': 66,\n",
       "  'categories': [{'alias': 'pizza', 'title': 'Pizza'},\n",
       "   {'alias': 'wine_bars', 'title': 'Wine Bars'}],\n",
       "  'rating': 4.5,\n",
       "  'coordinates': {'latitude': 47.61849, 'longitude': -122.31664},\n",
       "  'transactions': [],\n",
       "  'location': {'address1': '1830 12th Ave',\n",
       "   'address2': '',\n",
       "   'address3': None,\n",
       "   'city': 'Seattle',\n",
       "   'zip_code': '98122',\n",
       "   'country': 'US',\n",
       "   'state': 'WA',\n",
       "   'display_address': ['1830 12th Ave', 'Seattle, WA 98122']},\n",
       "  'phone': '+12064031809',\n",
       "  'display_phone': '(206) 403-1809',\n",
       "  'distance': 1690.3565633955448},\n",
       " {'id': 'Wi6LFkjIausYj277ru6pqg',\n",
       "  'alias': 'humble-pie-seattle',\n",
       "  'name': 'Humble Pie',\n",
       "  'image_url': 'https://s3-media4.fl.yelpcdn.com/bphoto/A08GOZ76GAAH6Sm_0_YAeQ/o.jpg',\n",
       "  'is_closed': False,\n",
       "  'url': 'https://www.yelp.com/biz/humble-pie-seattle?adjust_creative=YgmNDOo-e5tb1fZ-0ge60w&utm_campaign=yelp_api_v3&utm_medium=api_v3_business_search&utm_source=YgmNDOo-e5tb1fZ-0ge60w',\n",
       "  'review_count': 379,\n",
       "  'categories': [{'alias': 'pizza', 'title': 'Pizza'}],\n",
       "  'rating': 4.0,\n",
       "  'coordinates': {'latitude': 47.5976491915013,\n",
       "   'longitude': -122.313305988361},\n",
       "  'transactions': ['delivery'],\n",
       "  'price': '$$',\n",
       "  'location': {'address1': '525 Rainier Ave S',\n",
       "   'address2': '',\n",
       "   'address3': '',\n",
       "   'city': 'Seattle',\n",
       "   'zip_code': '98144',\n",
       "   'country': 'US',\n",
       "   'state': 'WA',\n",
       "   'display_address': ['525 Rainier Ave S', 'Seattle, WA 98144']},\n",
       "  'phone': '+12063295133',\n",
       "  'display_phone': '(206) 329-5133',\n",
       "  'distance': 2166.834011449786},\n",
       " {'id': 'Ra08l4kN1cXW_WQ_xfzrhw',\n",
       "  'alias': 'goan-host-cuisine-seattle',\n",
       "  'name': 'Goan Host Cuisine',\n",
       "  'image_url': 'https://s3-media2.fl.yelpcdn.com/bphoto/na26_ZI7GDj099fUGdwKvg/o.jpg',\n",
       "  'is_closed': False,\n",
       "  'url': 'https://www.yelp.com/biz/goan-host-cuisine-seattle?adjust_creative=YgmNDOo-e5tb1fZ-0ge60w&utm_campaign=yelp_api_v3&utm_medium=api_v3_business_search&utm_source=YgmNDOo-e5tb1fZ-0ge60w',\n",
       "  'review_count': 1,\n",
       "  'categories': [{'alias': 'pizza', 'title': 'Pizza'},\n",
       "   {'alias': 'italian', 'title': 'Italian'},\n",
       "   {'alias': 'seafood', 'title': 'Seafood'}],\n",
       "  'rating': 5.0,\n",
       "  'coordinates': {'latitude': 47.6149171, 'longitude': -122.3158802},\n",
       "  'transactions': ['delivery', 'pickup'],\n",
       "  'location': {'address1': '1525 13th ave',\n",
       "   'address2': None,\n",
       "   'address3': '',\n",
       "   'city': 'Seattle',\n",
       "   'zip_code': '98122',\n",
       "   'country': 'US',\n",
       "   'state': 'WA',\n",
       "   'display_address': ['1525 13th ave', 'Seattle, WA 98122']},\n",
       "  'phone': '+17543034924',\n",
       "  'display_phone': '(754) 303-4924',\n",
       "  'distance': 1527.3159788310365},\n",
       " {'id': 'M9xzvwgK58T0w7wvXedvuQ',\n",
       "  'alias': 'hot-mamas-pizza-seattle',\n",
       "  'name': \"Hot Mama's Pizza\",\n",
       "  'image_url': 'https://s3-media4.fl.yelpcdn.com/bphoto/LEL1qjUtdXO8aUPV9U-WwQ/o.jpg',\n",
       "  'is_closed': False,\n",
       "  'url': 'https://www.yelp.com/biz/hot-mamas-pizza-seattle?adjust_creative=YgmNDOo-e5tb1fZ-0ge60w&utm_campaign=yelp_api_v3&utm_medium=api_v3_business_search&utm_source=YgmNDOo-e5tb1fZ-0ge60w',\n",
       "  'review_count': 983,\n",
       "  'categories': [{'alias': 'pizza', 'title': 'Pizza'}],\n",
       "  'rating': 4.0,\n",
       "  'coordinates': {'latitude': 47.615379179632, 'longitude': -122.32323073437},\n",
       "  'transactions': ['delivery', 'pickup'],\n",
       "  'price': '$',\n",
       "  'location': {'address1': '700 E Pine St',\n",
       "   'address2': '',\n",
       "   'address3': '',\n",
       "   'city': 'Seattle',\n",
       "   'zip_code': '98122',\n",
       "   'country': 'US',\n",
       "   'state': 'WA',\n",
       "   'display_address': ['700 E Pine St', 'Seattle, WA 98122']},\n",
       "  'phone': '+12063226444',\n",
       "  'display_phone': '(206) 322-6444',\n",
       "  'distance': 2080.359405276959},\n",
       " {'id': 'cAFXng3Gr1cBCFkP1VIxng',\n",
       "  'alias': 'the-independent-pizzeria-seattle-2',\n",
       "  'name': 'The Independent Pizzeria',\n",
       "  'image_url': 'https://s3-media4.fl.yelpcdn.com/bphoto/4gIuisTnhbj8O3O09yLcrg/o.jpg',\n",
       "  'is_closed': False,\n",
       "  'url': 'https://www.yelp.com/biz/the-independent-pizzeria-seattle-2?adjust_creative=YgmNDOo-e5tb1fZ-0ge60w&utm_campaign=yelp_api_v3&utm_medium=api_v3_business_search&utm_source=YgmNDOo-e5tb1fZ-0ge60w',\n",
       "  'review_count': 183,\n",
       "  'categories': [{'alias': 'pizza', 'title': 'Pizza'},\n",
       "   {'alias': 'italian', 'title': 'Italian'}],\n",
       "  'rating': 4.0,\n",
       "  'coordinates': {'latitude': 47.636044, 'longitude': -122.277377},\n",
       "  'transactions': ['delivery'],\n",
       "  'price': '$$',\n",
       "  'location': {'address1': '4235 E Madison St',\n",
       "   'address2': '',\n",
       "   'address3': '',\n",
       "   'city': 'Seattle',\n",
       "   'zip_code': '98112',\n",
       "   'country': 'US',\n",
       "   'state': 'WA',\n",
       "   'display_address': ['4235 E Madison St', 'Seattle, WA 98112']},\n",
       "  'phone': '+12068606110',\n",
       "  'display_phone': '(206) 860-6110',\n",
       "  'distance': 2897.2528438366567},\n",
       " {'id': 'ugTsEtjvwRhteac_6JcuPw',\n",
       "  'alias': 'italian-family-pizza-seattle',\n",
       "  'name': 'Italian Family Pizza',\n",
       "  'image_url': 'https://s3-media2.fl.yelpcdn.com/bphoto/SgiSrJxdCGbPZjnTZRrCYQ/o.jpg',\n",
       "  'is_closed': False,\n",
       "  'url': 'https://www.yelp.com/biz/italian-family-pizza-seattle?adjust_creative=YgmNDOo-e5tb1fZ-0ge60w&utm_campaign=yelp_api_v3&utm_medium=api_v3_business_search&utm_source=YgmNDOo-e5tb1fZ-0ge60w',\n",
       "  'review_count': 1007,\n",
       "  'categories': [{'alias': 'pizza', 'title': 'Pizza'},\n",
       "   {'alias': 'italian', 'title': 'Italian'}],\n",
       "  'rating': 4.0,\n",
       "  'coordinates': {'latitude': 47.60937, 'longitude': -122.32546},\n",
       "  'transactions': ['delivery', 'pickup'],\n",
       "  'price': '$$',\n",
       "  'location': {'address1': '1028 Madison St',\n",
       "   'address2': None,\n",
       "   'address3': '',\n",
       "   'city': 'Seattle',\n",
       "   'zip_code': '98104',\n",
       "   'country': 'US',\n",
       "   'state': 'WA',\n",
       "   'display_address': ['1028 Madison St', 'Seattle, WA 98104']},\n",
       "  'phone': '+12065380040',\n",
       "  'display_phone': '(206) 538-0040',\n",
       "  'distance': 2271.307105309817},\n",
       " {'id': '009DlE_jK-Jby577v6eFMQ',\n",
       "  'alias': 'cora-pizza-and-plates-seattle',\n",
       "  'name': 'Cora Pizza & Plates',\n",
       "  'image_url': 'https://s3-media2.fl.yelpcdn.com/bphoto/fk3vZQi5XGiElFnBKy2R2w/o.jpg',\n",
       "  'is_closed': False,\n",
       "  'url': 'https://www.yelp.com/biz/cora-pizza-and-plates-seattle?adjust_creative=YgmNDOo-e5tb1fZ-0ge60w&utm_campaign=yelp_api_v3&utm_medium=api_v3_business_search&utm_source=YgmNDOo-e5tb1fZ-0ge60w',\n",
       "  'review_count': 6,\n",
       "  'categories': [{'alias': 'pizza', 'title': 'Pizza'},\n",
       "   {'alias': 'salad', 'title': 'Salad'},\n",
       "   {'alias': 'beer_and_wine', 'title': 'Beer, Wine & Spirits'}],\n",
       "  'rating': 4.5,\n",
       "  'coordinates': {'latitude': 47.6111845, 'longitude': -122.31647718830466},\n",
       "  'transactions': [],\n",
       "  'location': {'address1': '926 12th Ave',\n",
       "   'address2': '',\n",
       "   'address3': None,\n",
       "   'city': 'Seattle',\n",
       "   'zip_code': '98122',\n",
       "   'country': 'US',\n",
       "   'state': 'WA',\n",
       "   'display_address': ['926 12th Ave', 'Seattle, WA 98122']},\n",
       "  'phone': '+12063226304',\n",
       "  'display_phone': '(206) 322-6304',\n",
       "  'distance': 1573.0438863688935},\n",
       " {'id': '-FOAQv22SXtSBs7nptI3UA',\n",
       "  'alias': 'serious-pie-downtown-seattle-2',\n",
       "  'name': 'Serious Pie Downtown',\n",
       "  'image_url': 'https://s3-media1.fl.yelpcdn.com/bphoto/Yge-XaZ4E-Q3SAXKaWr4nQ/o.jpg',\n",
       "  'is_closed': False,\n",
       "  'url': 'https://www.yelp.com/biz/serious-pie-downtown-seattle-2?adjust_creative=YgmNDOo-e5tb1fZ-0ge60w&utm_campaign=yelp_api_v3&utm_medium=api_v3_business_search&utm_source=YgmNDOo-e5tb1fZ-0ge60w',\n",
       "  'review_count': 4575,\n",
       "  'categories': [{'alias': 'pizza', 'title': 'Pizza'},\n",
       "   {'alias': 'salad', 'title': 'Salad'},\n",
       "   {'alias': 'bars', 'title': 'Bars'}],\n",
       "  'rating': 4.0,\n",
       "  'coordinates': {'latitude': 47.61304626911818,\n",
       "   'longitude': -122.3403525907714},\n",
       "  'transactions': ['delivery', 'pickup'],\n",
       "  'price': '$$',\n",
       "  'location': {'address1': '2001 4th Ave',\n",
       "   'address2': None,\n",
       "   'address3': '',\n",
       "   'city': 'Seattle',\n",
       "   'zip_code': '98121',\n",
       "   'country': 'US',\n",
       "   'state': 'WA',\n",
       "   'display_address': ['2001 4th Ave', 'Seattle, WA 98121']},\n",
       "  'phone': '+12068387388',\n",
       "  'display_phone': '(206) 838-7388',\n",
       "  'distance': 3348.3092758278417},\n",
       " {'id': 'kVqwgAjEPffEyMJSzpfM_A',\n",
       "  'alias': 'pagliacci-pizza-seattle-26',\n",
       "  'name': 'Pagliacci Pizza',\n",
       "  'image_url': 'https://s3-media3.fl.yelpcdn.com/bphoto/7thHN-i4t_OPPnDIHqYtig/o.jpg',\n",
       "  'is_closed': False,\n",
       "  'url': 'https://www.yelp.com/biz/pagliacci-pizza-seattle-26?adjust_creative=YgmNDOo-e5tb1fZ-0ge60w&utm_campaign=yelp_api_v3&utm_medium=api_v3_business_search&utm_source=YgmNDOo-e5tb1fZ-0ge60w',\n",
       "  'review_count': 100,\n",
       "  'categories': [{'alias': 'pizza', 'title': 'Pizza'}],\n",
       "  'rating': 3.5,\n",
       "  'coordinates': {'latitude': 47.6254949, 'longitude': -122.2928304},\n",
       "  'transactions': ['delivery'],\n",
       "  'price': '$$',\n",
       "  'location': {'address1': '3015 E Madison St',\n",
       "   'address2': '',\n",
       "   'address3': '',\n",
       "   'city': 'Seattle',\n",
       "   'zip_code': '98112',\n",
       "   'country': 'US',\n",
       "   'state': 'WA',\n",
       "   'display_address': ['3015 E Madison St', 'Seattle, WA 98112']},\n",
       "  'phone': '+12067261717',\n",
       "  'display_phone': '(206) 726-1717',\n",
       "  'distance': 1395.266331559967},\n",
       " {'id': 'GJdmwqqkC0nAQfX1qZM3ew',\n",
       "  'alias': 'olympia-pizza-and-spaghetti-house-iii-seattle',\n",
       "  'name': 'Olympia Pizza and Spaghetti House III',\n",
       "  'image_url': 'https://s3-media1.fl.yelpcdn.com/bphoto/KvTgMAozPm_HQGaBsfGELQ/o.jpg',\n",
       "  'is_closed': False,\n",
       "  'url': 'https://www.yelp.com/biz/olympia-pizza-and-spaghetti-house-iii-seattle?adjust_creative=YgmNDOo-e5tb1fZ-0ge60w&utm_campaign=yelp_api_v3&utm_medium=api_v3_business_search&utm_source=YgmNDOo-e5tb1fZ-0ge60w',\n",
       "  'review_count': 307,\n",
       "  'categories': [{'alias': 'pizza', 'title': 'Pizza'},\n",
       "   {'alias': 'italian', 'title': 'Italian'}],\n",
       "  'rating': 4.0,\n",
       "  'coordinates': {'latitude': 47.62383, 'longitude': -122.312445},\n",
       "  'transactions': ['delivery'],\n",
       "  'price': '$$',\n",
       "  'location': {'address1': '516 15th Ave E',\n",
       "   'address2': '',\n",
       "   'address3': '',\n",
       "   'city': 'Seattle',\n",
       "   'zip_code': '98112',\n",
       "   'country': 'US',\n",
       "   'state': 'WA',\n",
       "   'display_address': ['516 15th Ave E', 'Seattle, WA 98112']},\n",
       "  'phone': '+12063294500',\n",
       "  'display_phone': '(206) 329-4500',\n",
       "  'distance': 1732.8743834241322},\n",
       " {'id': 'k3riaoflafifFUSNKXbfTw',\n",
       "  'alias': 'via-tribunali-capitol-hill-seattle',\n",
       "  'name': 'Via Tribunali - Capitol Hill',\n",
       "  'image_url': 'https://s3-media1.fl.yelpcdn.com/bphoto/RmJFyrZyd3kZrNljPJS5gQ/o.jpg',\n",
       "  'is_closed': False,\n",
       "  'url': 'https://www.yelp.com/biz/via-tribunali-capitol-hill-seattle?adjust_creative=YgmNDOo-e5tb1fZ-0ge60w&utm_campaign=yelp_api_v3&utm_medium=api_v3_business_search&utm_source=YgmNDOo-e5tb1fZ-0ge60w',\n",
       "  'review_count': 636,\n",
       "  'categories': [{'alias': 'pizza', 'title': 'Pizza'},\n",
       "   {'alias': 'italian', 'title': 'Italian'},\n",
       "   {'alias': 'wine_bars', 'title': 'Wine Bars'}],\n",
       "  'rating': 4.0,\n",
       "  'coordinates': {'latitude': 47.61386, 'longitude': -122.31986},\n",
       "  'transactions': ['delivery', 'pickup'],\n",
       "  'price': '$$',\n",
       "  'location': {'address1': '913 E Pike St',\n",
       "   'address2': '',\n",
       "   'address3': '',\n",
       "   'city': 'Seattle',\n",
       "   'zip_code': '98122',\n",
       "   'country': 'US',\n",
       "   'state': 'WA',\n",
       "   'display_address': ['913 E Pike St', 'Seattle, WA 98122']},\n",
       "  'phone': '+12063229234',\n",
       "  'display_phone': '(206) 322-9234',\n",
       "  'distance': 1818.6291786273798},\n",
       " {'id': '1rkgyfwzXG7qSdVZdfRt7g',\n",
       "  'alias': 'roccos-seattle',\n",
       "  'name': \"Rocco's\",\n",
       "  'image_url': 'https://s3-media1.fl.yelpcdn.com/bphoto/7h9z8mCAbDunqqct_xIYPA/o.jpg',\n",
       "  'is_closed': False,\n",
       "  'url': 'https://www.yelp.com/biz/roccos-seattle?adjust_creative=YgmNDOo-e5tb1fZ-0ge60w&utm_campaign=yelp_api_v3&utm_medium=api_v3_business_search&utm_source=YgmNDOo-e5tb1fZ-0ge60w',\n",
       "  'review_count': 1825,\n",
       "  'categories': [{'alias': 'bars', 'title': 'Bars'},\n",
       "   {'alias': 'pizza', 'title': 'Pizza'}],\n",
       "  'rating': 4.0,\n",
       "  'coordinates': {'latitude': 47.6145745, 'longitude': -122.3459477},\n",
       "  'transactions': ['delivery', 'pickup'],\n",
       "  'price': '$$',\n",
       "  'location': {'address1': '2312 2nd Ave',\n",
       "   'address2': '',\n",
       "   'address3': '',\n",
       "   'city': 'Seattle',\n",
       "   'zip_code': '98121',\n",
       "   'country': 'US',\n",
       "   'state': 'WA',\n",
       "   'display_address': ['2312 2nd Ave', 'Seattle, WA 98121']},\n",
       "  'phone': '+12063974210',\n",
       "  'display_phone': '(206) 397-4210',\n",
       "  'distance': 3771.079180021753},\n",
       " {'id': 'PpAiLhErwd08QhPb06_-hA',\n",
       "  'alias': 'mioposto-seattle-7',\n",
       "  'name': 'Mioposto',\n",
       "  'image_url': 'https://s3-media1.fl.yelpcdn.com/bphoto/bllrTtGk2qdDMJCVS2hbkg/o.jpg',\n",
       "  'is_closed': False,\n",
       "  'url': 'https://www.yelp.com/biz/mioposto-seattle-7?adjust_creative=YgmNDOo-e5tb1fZ-0ge60w&utm_campaign=yelp_api_v3&utm_medium=api_v3_business_search&utm_source=YgmNDOo-e5tb1fZ-0ge60w',\n",
       "  'review_count': 416,\n",
       "  'categories': [{'alias': 'italian', 'title': 'Italian'},\n",
       "   {'alias': 'pizza', 'title': 'Pizza'},\n",
       "   {'alias': 'breakfast_brunch', 'title': 'Breakfast & Brunch'}],\n",
       "  'rating': 4.0,\n",
       "  'coordinates': {'latitude': 47.57802, 'longitude': -122.28808},\n",
       "  'transactions': ['delivery', 'pickup'],\n",
       "  'price': '$$',\n",
       "  'location': {'address1': '3601 S McClellan St',\n",
       "   'address2': None,\n",
       "   'address3': '',\n",
       "   'city': 'Seattle',\n",
       "   'zip_code': '98144',\n",
       "   'country': 'US',\n",
       "   'state': 'WA',\n",
       "   'display_address': ['3601 S McClellan St', 'Seattle, WA 98144']},\n",
       "  'phone': '+12067603400',\n",
       "  'display_phone': '(206) 760-3400',\n",
       "  'distance': 3941.6634321994184},\n",
       " {'id': '91q2mxR0R6d-HAHFnmePyg',\n",
       "  'alias': 'zeeks-pizza-seattle-18',\n",
       "  'name': 'Zeeks Pizza',\n",
       "  'image_url': 'https://s3-media3.fl.yelpcdn.com/bphoto/BSTu4Yxv-3ID9qSH4nPV7A/o.jpg',\n",
       "  'is_closed': False,\n",
       "  'url': 'https://www.yelp.com/biz/zeeks-pizza-seattle-18?adjust_creative=YgmNDOo-e5tb1fZ-0ge60w&utm_campaign=yelp_api_v3&utm_medium=api_v3_business_search&utm_source=YgmNDOo-e5tb1fZ-0ge60w',\n",
       "  'review_count': 100,\n",
       "  'categories': [{'alias': 'pizza', 'title': 'Pizza'}],\n",
       "  'rating': 3.5,\n",
       "  'coordinates': {'latitude': 47.6245449, 'longitude': -122.3081645},\n",
       "  'transactions': ['delivery', 'pickup'],\n",
       "  'location': {'address1': '1830 E Mercer St',\n",
       "   'address2': None,\n",
       "   'address3': '',\n",
       "   'city': 'Seattle',\n",
       "   'zip_code': '98112',\n",
       "   'country': 'US',\n",
       "   'state': 'WA',\n",
       "   'display_address': ['1830 E Mercer St', 'Seattle, WA 98112']},\n",
       "  'phone': '+12064575997',\n",
       "  'display_phone': '(206) 457-5997',\n",
       "  'distance': 1554.2138613942195},\n",
       " {'id': 'IIHDuM9KiNBwL3mm5et_IA',\n",
       "  'alias': 'thats-amore-italian-cafe-seattle',\n",
       "  'name': \"That's Amore! Italian Cafe\",\n",
       "  'image_url': 'https://s3-media4.fl.yelpcdn.com/bphoto/9f6Ztbf2ybU2OPSXy4tUMA/o.jpg',\n",
       "  'is_closed': False,\n",
       "  'url': 'https://www.yelp.com/biz/thats-amore-italian-cafe-seattle?adjust_creative=YgmNDOo-e5tb1fZ-0ge60w&utm_campaign=yelp_api_v3&utm_medium=api_v3_business_search&utm_source=YgmNDOo-e5tb1fZ-0ge60w',\n",
       "  'review_count': 379,\n",
       "  'categories': [{'alias': 'italian', 'title': 'Italian'},\n",
       "   {'alias': 'pizza', 'title': 'Pizza'},\n",
       "   {'alias': 'seafood', 'title': 'Seafood'}],\n",
       "  'rating': 4.5,\n",
       "  'coordinates': {'latitude': 47.58956, 'longitude': -122.29267},\n",
       "  'transactions': ['delivery'],\n",
       "  'price': '$$',\n",
       "  'location': {'address1': '1425 31st Ave S',\n",
       "   'address2': '',\n",
       "   'address3': '',\n",
       "   'city': 'Seattle',\n",
       "   'zip_code': '98144',\n",
       "   'country': 'US',\n",
       "   'state': 'WA',\n",
       "   'display_address': ['1425 31st Ave S', 'Seattle, WA 98144']},\n",
       "  'phone': '+12063223677',\n",
       "  'display_phone': '(206) 322-3677',\n",
       "  'distance': 2626.9250000819},\n",
       " {'id': 'wi-mbKEz4Ha1YYaOB8zHnw',\n",
       "  'alias': 'kōbo-pizza-seattle',\n",
       "  'name': 'Kōbo Pizza',\n",
       "  'image_url': 'https://s3-media1.fl.yelpcdn.com/bphoto/6et4T9Kn0bXCeJY8yBwS7w/o.jpg',\n",
       "  'is_closed': False,\n",
       "  'url': 'https://www.yelp.com/biz/k%C5%8Dbo-pizza-seattle?adjust_creative=YgmNDOo-e5tb1fZ-0ge60w&utm_campaign=yelp_api_v3&utm_medium=api_v3_business_search&utm_source=YgmNDOo-e5tb1fZ-0ge60w',\n",
       "  'review_count': 60,\n",
       "  'categories': [{'alias': 'pizza', 'title': 'Pizza'}],\n",
       "  'rating': 4.0,\n",
       "  'coordinates': {'latitude': 47.61426995180185,\n",
       "   'longitude': -122.32272598586816},\n",
       "  'transactions': [],\n",
       "  'location': {'address1': '714 E Pike St',\n",
       "   'address2': None,\n",
       "   'address3': '',\n",
       "   'city': 'Seattle',\n",
       "   'zip_code': '98122',\n",
       "   'country': 'US',\n",
       "   'state': 'WA',\n",
       "   'display_address': ['714 E Pike St', 'Seattle, WA 98122']},\n",
       "  'phone': '+12536930207',\n",
       "  'display_phone': '(253) 693-0207',\n",
       "  'distance': 2031.1911845897566}]"
      ]
     },
     "execution_count": 20,
     "metadata": {},
     "output_type": "execute_result"
    }
   ],
   "source": [
    "results['businesses']"
   ]
  },
  {
   "cell_type": "code",
   "execution_count": 22,
   "id": "32170a3b-b6ee-4918-863c-7cb2d662430f",
   "metadata": {},
   "outputs": [
    {
     "data": {
      "text/plain": [
       "20"
      ]
     },
     "execution_count": 22,
     "metadata": {},
     "output_type": "execute_result"
    }
   ],
   "source": [
    "results_per_page = len(results['businesses'])\n",
    "results_per_page"
   ]
  },
  {
   "cell_type": "code",
   "execution_count": 23,
   "id": "83f789ea-5594-41fa-a2bc-872612a9358a",
   "metadata": {},
   "outputs": [
    {
     "data": {
      "text/plain": [
       "43"
      ]
     },
     "execution_count": 23,
     "metadata": {},
     "output_type": "execute_result"
    }
   ],
   "source": [
    "n_pages = math.ceil((results['total']-n_results)/ results_per_page)\n",
    "n_pages"
   ]
  },
  {
   "cell_type": "code",
   "execution_count": 25,
   "id": "e3632afc-7d33-4030-8299-7ee3004035ba",
   "metadata": {},
   "outputs": [
    {
     "data": {
      "application/vnd.jupyter.widget-view+json": {
       "model_id": "48e86774aba44c189ab584080eaacaa4",
       "version_major": 2,
       "version_minor": 0
      },
      "text/plain": [
       "  0%|          | 0/43 [00:00<?, ?it/s]"
      ]
     },
     "metadata": {},
     "output_type": "display_data"
    }
   ],
   "source": [
    "for i in tqdm_notebook( range(1,n_pages+1)):\n",
    "    \n",
    "    ## Read in results in progress file and check the length\n",
    "    with open(JSON_FILE, 'r') as f:\n",
    "        previous_results = json.load(f)\n",
    "    ## save number of results for to use as offset\n",
    "    n_results = len(previous_results)\n",
    "    ## use n_results as the OFFSET \n",
    "    results = yelp_api.search_query(location=location,\n",
    "                                    term=term, \n",
    "                                    offset=n_results)\n",
    "    \n",
    "    ## append new results and save to file\n",
    "    previous_results.extend(results['businesses'])\n",
    "    \n",
    "    with open(JSON_FILE,'w') as f:\n",
    "        json.dump(previous_results,f)\n",
    "    \n",
    "    # add a 200ms pause\n",
    "    time.sleep(.2)"
   ]
  },
  {
   "cell_type": "code",
   "execution_count": 26,
   "id": "3b8e822d-c8b5-4120-9d26-2a5a23508f90",
   "metadata": {},
   "outputs": [
    {
     "data": {
      "text/html": [
       "<div>\n",
       "<style scoped>\n",
       "    .dataframe tbody tr th:only-of-type {\n",
       "        vertical-align: middle;\n",
       "    }\n",
       "\n",
       "    .dataframe tbody tr th {\n",
       "        vertical-align: top;\n",
       "    }\n",
       "\n",
       "    .dataframe thead th {\n",
       "        text-align: right;\n",
       "    }\n",
       "</style>\n",
       "<table border=\"1\" class=\"dataframe\">\n",
       "  <thead>\n",
       "    <tr style=\"text-align: right;\">\n",
       "      <th></th>\n",
       "      <th>id</th>\n",
       "      <th>alias</th>\n",
       "      <th>name</th>\n",
       "      <th>image_url</th>\n",
       "      <th>is_closed</th>\n",
       "      <th>url</th>\n",
       "      <th>review_count</th>\n",
       "      <th>categories</th>\n",
       "      <th>rating</th>\n",
       "      <th>coordinates</th>\n",
       "      <th>transactions</th>\n",
       "      <th>location</th>\n",
       "      <th>phone</th>\n",
       "      <th>display_phone</th>\n",
       "      <th>distance</th>\n",
       "      <th>price</th>\n",
       "    </tr>\n",
       "  </thead>\n",
       "  <tbody>\n",
       "    <tr>\n",
       "      <th>0</th>\n",
       "      <td>sx8OeNntGUg3BzQV_L8z6g</td>\n",
       "      <td>jackson-street-pizza-lounge-seattle</td>\n",
       "      <td>Jackson Street Pizza Lounge</td>\n",
       "      <td>https://s3-media3.fl.yelpcdn.com/bphoto/X9EeTj...</td>\n",
       "      <td>False</td>\n",
       "      <td>https://www.yelp.com/biz/jackson-street-pizza-...</td>\n",
       "      <td>17</td>\n",
       "      <td>[{'alias': 'cocktailbars', 'title': 'Cocktail ...</td>\n",
       "      <td>4.0</td>\n",
       "      <td>{'latitude': 47.59916307243915, 'longitude': -...</td>\n",
       "      <td>[]</td>\n",
       "      <td>{'address1': '2901 S Jackson St', 'address2': ...</td>\n",
       "      <td>+12064857118</td>\n",
       "      <td>(206) 485-7118</td>\n",
       "      <td>1550.546409</td>\n",
       "      <td>NaN</td>\n",
       "    </tr>\n",
       "    <tr>\n",
       "      <th>1</th>\n",
       "      <td>EwrAoy7XbX8nfemZdDvupA</td>\n",
       "      <td>cornelly-seattle</td>\n",
       "      <td>Cornelly</td>\n",
       "      <td>https://s3-media4.fl.yelpcdn.com/bphoto/HlYYBT...</td>\n",
       "      <td>False</td>\n",
       "      <td>https://www.yelp.com/biz/cornelly-seattle?adju...</td>\n",
       "      <td>143</td>\n",
       "      <td>[{'alias': 'pizza', 'title': 'Pizza'}, {'alias...</td>\n",
       "      <td>4.5</td>\n",
       "      <td>{'latitude': 47.624577, 'longitude': -122.325577}</td>\n",
       "      <td>[pickup]</td>\n",
       "      <td>{'address1': '601 Summit Ave E', 'address2': '...</td>\n",
       "      <td></td>\n",
       "      <td></td>\n",
       "      <td>2578.701393</td>\n",
       "      <td>$$</td>\n",
       "    </tr>\n",
       "    <tr>\n",
       "      <th>2</th>\n",
       "      <td>ENxs0vvtkJYxQqaZ3sbEjw</td>\n",
       "      <td>my-friend-dereks-seattle</td>\n",
       "      <td>My Friend Derek's</td>\n",
       "      <td>https://s3-media1.fl.yelpcdn.com/bphoto/MVV6S3...</td>\n",
       "      <td>False</td>\n",
       "      <td>https://www.yelp.com/biz/my-friend-dereks-seat...</td>\n",
       "      <td>34</td>\n",
       "      <td>[{'alias': 'foodtrucks', 'title': 'Food Trucks...</td>\n",
       "      <td>5.0</td>\n",
       "      <td>{'latitude': 47.651515, 'longitude': -122.343613}</td>\n",
       "      <td>[]</td>\n",
       "      <td>{'address1': '3632 Woodland Park Ave N', 'addr...</td>\n",
       "      <td></td>\n",
       "      <td></td>\n",
       "      <td>5581.310444</td>\n",
       "      <td>NaN</td>\n",
       "    </tr>\n",
       "    <tr>\n",
       "      <th>3</th>\n",
       "      <td>fxyHWmfzcdjImgQ_UYHoTw</td>\n",
       "      <td>bar-cotto-seattle</td>\n",
       "      <td>Bar Cotto</td>\n",
       "      <td>https://s3-media1.fl.yelpcdn.com/bphoto/UNfR-J...</td>\n",
       "      <td>False</td>\n",
       "      <td>https://www.yelp.com/biz/bar-cotto-seattle?adj...</td>\n",
       "      <td>370</td>\n",
       "      <td>[{'alias': 'bars', 'title': 'Bars'}, {'alias':...</td>\n",
       "      <td>4.5</td>\n",
       "      <td>{'latitude': 47.6146934, 'longitude': -122.312...</td>\n",
       "      <td>[pickup, delivery]</td>\n",
       "      <td>{'address1': '1546 15th Ave', 'address2': '', ...</td>\n",
       "      <td>+12068388081</td>\n",
       "      <td>(206) 838-8081</td>\n",
       "      <td>1292.526796</td>\n",
       "      <td>$$</td>\n",
       "    </tr>\n",
       "    <tr>\n",
       "      <th>4</th>\n",
       "      <td>FVbwpNA1uZEGiM02N4XtUg</td>\n",
       "      <td>blotto-seattle</td>\n",
       "      <td>Blotto</td>\n",
       "      <td>https://s3-media3.fl.yelpcdn.com/bphoto/Q4Y1Cw...</td>\n",
       "      <td>False</td>\n",
       "      <td>https://www.yelp.com/biz/blotto-seattle?adjust...</td>\n",
       "      <td>66</td>\n",
       "      <td>[{'alias': 'pizza', 'title': 'Pizza'}, {'alias...</td>\n",
       "      <td>4.5</td>\n",
       "      <td>{'latitude': 47.61849, 'longitude': -122.31664}</td>\n",
       "      <td>[]</td>\n",
       "      <td>{'address1': '1830 12th Ave', 'address2': '', ...</td>\n",
       "      <td>+12064031809</td>\n",
       "      <td>(206) 403-1809</td>\n",
       "      <td>1690.356563</td>\n",
       "      <td>NaN</td>\n",
       "    </tr>\n",
       "  </tbody>\n",
       "</table>\n",
       "</div>"
      ],
      "text/plain": [
       "                       id                                alias  \\\n",
       "0  sx8OeNntGUg3BzQV_L8z6g  jackson-street-pizza-lounge-seattle   \n",
       "1  EwrAoy7XbX8nfemZdDvupA                     cornelly-seattle   \n",
       "2  ENxs0vvtkJYxQqaZ3sbEjw             my-friend-dereks-seattle   \n",
       "3  fxyHWmfzcdjImgQ_UYHoTw                    bar-cotto-seattle   \n",
       "4  FVbwpNA1uZEGiM02N4XtUg                       blotto-seattle   \n",
       "\n",
       "                          name  \\\n",
       "0  Jackson Street Pizza Lounge   \n",
       "1                     Cornelly   \n",
       "2            My Friend Derek's   \n",
       "3                    Bar Cotto   \n",
       "4                       Blotto   \n",
       "\n",
       "                                           image_url  is_closed  \\\n",
       "0  https://s3-media3.fl.yelpcdn.com/bphoto/X9EeTj...      False   \n",
       "1  https://s3-media4.fl.yelpcdn.com/bphoto/HlYYBT...      False   \n",
       "2  https://s3-media1.fl.yelpcdn.com/bphoto/MVV6S3...      False   \n",
       "3  https://s3-media1.fl.yelpcdn.com/bphoto/UNfR-J...      False   \n",
       "4  https://s3-media3.fl.yelpcdn.com/bphoto/Q4Y1Cw...      False   \n",
       "\n",
       "                                                 url  review_count  \\\n",
       "0  https://www.yelp.com/biz/jackson-street-pizza-...            17   \n",
       "1  https://www.yelp.com/biz/cornelly-seattle?adju...           143   \n",
       "2  https://www.yelp.com/biz/my-friend-dereks-seat...            34   \n",
       "3  https://www.yelp.com/biz/bar-cotto-seattle?adj...           370   \n",
       "4  https://www.yelp.com/biz/blotto-seattle?adjust...            66   \n",
       "\n",
       "                                          categories  rating  \\\n",
       "0  [{'alias': 'cocktailbars', 'title': 'Cocktail ...     4.0   \n",
       "1  [{'alias': 'pizza', 'title': 'Pizza'}, {'alias...     4.5   \n",
       "2  [{'alias': 'foodtrucks', 'title': 'Food Trucks...     5.0   \n",
       "3  [{'alias': 'bars', 'title': 'Bars'}, {'alias':...     4.5   \n",
       "4  [{'alias': 'pizza', 'title': 'Pizza'}, {'alias...     4.5   \n",
       "\n",
       "                                         coordinates        transactions  \\\n",
       "0  {'latitude': 47.59916307243915, 'longitude': -...                  []   \n",
       "1  {'latitude': 47.624577, 'longitude': -122.325577}            [pickup]   \n",
       "2  {'latitude': 47.651515, 'longitude': -122.343613}                  []   \n",
       "3  {'latitude': 47.6146934, 'longitude': -122.312...  [pickup, delivery]   \n",
       "4    {'latitude': 47.61849, 'longitude': -122.31664}                  []   \n",
       "\n",
       "                                            location         phone  \\\n",
       "0  {'address1': '2901 S Jackson St', 'address2': ...  +12064857118   \n",
       "1  {'address1': '601 Summit Ave E', 'address2': '...                 \n",
       "2  {'address1': '3632 Woodland Park Ave N', 'addr...                 \n",
       "3  {'address1': '1546 15th Ave', 'address2': '', ...  +12068388081   \n",
       "4  {'address1': '1830 12th Ave', 'address2': '', ...  +12064031809   \n",
       "\n",
       "    display_phone     distance price  \n",
       "0  (206) 485-7118  1550.546409   NaN  \n",
       "1                  2578.701393    $$  \n",
       "2                  5581.310444   NaN  \n",
       "3  (206) 838-8081  1292.526796    $$  \n",
       "4  (206) 403-1809  1690.356563   NaN  "
      ]
     },
     "metadata": {},
     "output_type": "display_data"
    },
    {
     "data": {
      "text/html": [
       "<div>\n",
       "<style scoped>\n",
       "    .dataframe tbody tr th:only-of-type {\n",
       "        vertical-align: middle;\n",
       "    }\n",
       "\n",
       "    .dataframe tbody tr th {\n",
       "        vertical-align: top;\n",
       "    }\n",
       "\n",
       "    .dataframe thead th {\n",
       "        text-align: right;\n",
       "    }\n",
       "</style>\n",
       "<table border=\"1\" class=\"dataframe\">\n",
       "  <thead>\n",
       "    <tr style=\"text-align: right;\">\n",
       "      <th></th>\n",
       "      <th>id</th>\n",
       "      <th>alias</th>\n",
       "      <th>name</th>\n",
       "      <th>image_url</th>\n",
       "      <th>is_closed</th>\n",
       "      <th>url</th>\n",
       "      <th>review_count</th>\n",
       "      <th>categories</th>\n",
       "      <th>rating</th>\n",
       "      <th>coordinates</th>\n",
       "      <th>transactions</th>\n",
       "      <th>location</th>\n",
       "      <th>phone</th>\n",
       "      <th>display_phone</th>\n",
       "      <th>distance</th>\n",
       "      <th>price</th>\n",
       "    </tr>\n",
       "  </thead>\n",
       "  <tbody>\n",
       "    <tr>\n",
       "      <th>853</th>\n",
       "      <td>Zi4gjjAHv3XcBAs0wSpoJw</td>\n",
       "      <td>qfc-mercer-island-3</td>\n",
       "      <td>QFC</td>\n",
       "      <td>https://s3-media1.fl.yelpcdn.com/bphoto/gbek_5...</td>\n",
       "      <td>False</td>\n",
       "      <td>https://www.yelp.com/biz/qfc-mercer-island-3?a...</td>\n",
       "      <td>61</td>\n",
       "      <td>[{'alias': 'grocery', 'title': 'Grocery'}]</td>\n",
       "      <td>2.5</td>\n",
       "      <td>{'latitude': 47.58496, 'longitude': -122.23265}</td>\n",
       "      <td>[]</td>\n",
       "      <td>{'address1': '7823 SE 28th St', 'address2': ''...</td>\n",
       "      <td>+12062300745</td>\n",
       "      <td>(206) 230-0745</td>\n",
       "      <td>5672.676413</td>\n",
       "      <td>$$</td>\n",
       "    </tr>\n",
       "    <tr>\n",
       "      <th>854</th>\n",
       "      <td>LvUsQR3_dXoPySFQX6zlew</td>\n",
       "      <td>mae-ploy-thai-cuisine-seattle</td>\n",
       "      <td>Mae Ploy Thai Cuisine</td>\n",
       "      <td>https://s3-media1.fl.yelpcdn.com/bphoto/p1mbxq...</td>\n",
       "      <td>False</td>\n",
       "      <td>https://www.yelp.com/biz/mae-ploy-thai-cuisine...</td>\n",
       "      <td>133</td>\n",
       "      <td>[{'alias': 'thai', 'title': 'Thai'}]</td>\n",
       "      <td>3.5</td>\n",
       "      <td>{'latitude': 47.67577, 'longitude': -122.37667}</td>\n",
       "      <td>[delivery, pickup]</td>\n",
       "      <td>{'address1': '6421 15th Ave NW', 'address2': '...</td>\n",
       "      <td>+12067840899</td>\n",
       "      <td>(206) 784-0899</td>\n",
       "      <td>9247.279220</td>\n",
       "      <td>$$</td>\n",
       "    </tr>\n",
       "    <tr>\n",
       "      <th>855</th>\n",
       "      <td>rcDbUcs83gvoRxhaTmFfnQ</td>\n",
       "      <td>cypress-lounge-and-wine-bar-bellevue</td>\n",
       "      <td>Cypress Lounge &amp; Wine Bar</td>\n",
       "      <td>https://s3-media2.fl.yelpcdn.com/bphoto/DsFhIb...</td>\n",
       "      <td>False</td>\n",
       "      <td>https://www.yelp.com/biz/cypress-lounge-and-wi...</td>\n",
       "      <td>68</td>\n",
       "      <td>[{'alias': 'wine_bars', 'title': 'Wine Bars'},...</td>\n",
       "      <td>3.5</td>\n",
       "      <td>{'latitude': 47.6157033283809, 'longitude': -1...</td>\n",
       "      <td>[]</td>\n",
       "      <td>{'address1': '600 Bellevue Way NE', 'address2'...</td>\n",
       "      <td>+14256381000</td>\n",
       "      <td>(425) 638-1000</td>\n",
       "      <td>7123.208902</td>\n",
       "      <td>$$</td>\n",
       "    </tr>\n",
       "    <tr>\n",
       "      <th>856</th>\n",
       "      <td>hTvJj509lXVcMptnPBgTcw</td>\n",
       "      <td>auntie-annes-bellevue</td>\n",
       "      <td>Auntie Anne's</td>\n",
       "      <td>https://s3-media4.fl.yelpcdn.com/bphoto/6iE-N9...</td>\n",
       "      <td>False</td>\n",
       "      <td>https://www.yelp.com/biz/auntie-annes-bellevue...</td>\n",
       "      <td>52</td>\n",
       "      <td>[{'alias': 'pretzels', 'title': 'Pretzels'}]</td>\n",
       "      <td>4.0</td>\n",
       "      <td>{'latitude': 47.615113, 'longitude': -122.203116}</td>\n",
       "      <td>[]</td>\n",
       "      <td>{'address1': '2040 Bellevue Sq', 'address2': '...</td>\n",
       "      <td>+14256378990</td>\n",
       "      <td>(425) 637-8990</td>\n",
       "      <td>6942.464183</td>\n",
       "      <td>$</td>\n",
       "    </tr>\n",
       "    <tr>\n",
       "      <th>857</th>\n",
       "      <td>oniQ68t6VR1naVtUXmfETQ</td>\n",
       "      <td>pokeworks-bellevue-2</td>\n",
       "      <td>Pokeworks</td>\n",
       "      <td>https://s3-media4.fl.yelpcdn.com/bphoto/Dn5kRk...</td>\n",
       "      <td>False</td>\n",
       "      <td>https://www.yelp.com/biz/pokeworks-bellevue-2?...</td>\n",
       "      <td>299</td>\n",
       "      <td>[{'alias': 'poke', 'title': 'Poke'}, {'alias':...</td>\n",
       "      <td>4.0</td>\n",
       "      <td>{'latitude': 47.61252119845868, 'longitude': -...</td>\n",
       "      <td>[delivery, pickup]</td>\n",
       "      <td>{'address1': '222 Bellevue Way NE', 'address2'...</td>\n",
       "      <td>+14252141182</td>\n",
       "      <td>(425) 214-1182</td>\n",
       "      <td>7072.982860</td>\n",
       "      <td>$$</td>\n",
       "    </tr>\n",
       "  </tbody>\n",
       "</table>\n",
       "</div>"
      ],
      "text/plain": [
       "                         id                                 alias  \\\n",
       "853  Zi4gjjAHv3XcBAs0wSpoJw                   qfc-mercer-island-3   \n",
       "854  LvUsQR3_dXoPySFQX6zlew         mae-ploy-thai-cuisine-seattle   \n",
       "855  rcDbUcs83gvoRxhaTmFfnQ  cypress-lounge-and-wine-bar-bellevue   \n",
       "856  hTvJj509lXVcMptnPBgTcw                 auntie-annes-bellevue   \n",
       "857  oniQ68t6VR1naVtUXmfETQ                  pokeworks-bellevue-2   \n",
       "\n",
       "                          name  \\\n",
       "853                        QFC   \n",
       "854      Mae Ploy Thai Cuisine   \n",
       "855  Cypress Lounge & Wine Bar   \n",
       "856              Auntie Anne's   \n",
       "857                  Pokeworks   \n",
       "\n",
       "                                             image_url  is_closed  \\\n",
       "853  https://s3-media1.fl.yelpcdn.com/bphoto/gbek_5...      False   \n",
       "854  https://s3-media1.fl.yelpcdn.com/bphoto/p1mbxq...      False   \n",
       "855  https://s3-media2.fl.yelpcdn.com/bphoto/DsFhIb...      False   \n",
       "856  https://s3-media4.fl.yelpcdn.com/bphoto/6iE-N9...      False   \n",
       "857  https://s3-media4.fl.yelpcdn.com/bphoto/Dn5kRk...      False   \n",
       "\n",
       "                                                   url  review_count  \\\n",
       "853  https://www.yelp.com/biz/qfc-mercer-island-3?a...            61   \n",
       "854  https://www.yelp.com/biz/mae-ploy-thai-cuisine...           133   \n",
       "855  https://www.yelp.com/biz/cypress-lounge-and-wi...            68   \n",
       "856  https://www.yelp.com/biz/auntie-annes-bellevue...            52   \n",
       "857  https://www.yelp.com/biz/pokeworks-bellevue-2?...           299   \n",
       "\n",
       "                                            categories  rating  \\\n",
       "853         [{'alias': 'grocery', 'title': 'Grocery'}]     2.5   \n",
       "854               [{'alias': 'thai', 'title': 'Thai'}]     3.5   \n",
       "855  [{'alias': 'wine_bars', 'title': 'Wine Bars'},...     3.5   \n",
       "856       [{'alias': 'pretzels', 'title': 'Pretzels'}]     4.0   \n",
       "857  [{'alias': 'poke', 'title': 'Poke'}, {'alias':...     4.0   \n",
       "\n",
       "                                           coordinates        transactions  \\\n",
       "853    {'latitude': 47.58496, 'longitude': -122.23265}                  []   \n",
       "854    {'latitude': 47.67577, 'longitude': -122.37667}  [delivery, pickup]   \n",
       "855  {'latitude': 47.6157033283809, 'longitude': -1...                  []   \n",
       "856  {'latitude': 47.615113, 'longitude': -122.203116}                  []   \n",
       "857  {'latitude': 47.61252119845868, 'longitude': -...  [delivery, pickup]   \n",
       "\n",
       "                                              location         phone  \\\n",
       "853  {'address1': '7823 SE 28th St', 'address2': ''...  +12062300745   \n",
       "854  {'address1': '6421 15th Ave NW', 'address2': '...  +12067840899   \n",
       "855  {'address1': '600 Bellevue Way NE', 'address2'...  +14256381000   \n",
       "856  {'address1': '2040 Bellevue Sq', 'address2': '...  +14256378990   \n",
       "857  {'address1': '222 Bellevue Way NE', 'address2'...  +14252141182   \n",
       "\n",
       "      display_phone     distance price  \n",
       "853  (206) 230-0745  5672.676413    $$  \n",
       "854  (206) 784-0899  9247.279220    $$  \n",
       "855  (425) 638-1000  7123.208902    $$  \n",
       "856  (425) 637-8990  6942.464183     $  \n",
       "857  (425) 214-1182  7072.982860    $$  "
      ]
     },
     "metadata": {},
     "output_type": "display_data"
    }
   ],
   "source": [
    "final_df = pd.read_json(JSON_FILE)\n",
    "display(final_df.head(), final_df.tail())"
   ]
  },
  {
   "cell_type": "code",
   "execution_count": 28,
   "id": "93f75a69-e5e1-4a21-875c-8a3f89d345b8",
   "metadata": {},
   "outputs": [
    {
     "data": {
      "text/plain": [
       "0"
      ]
     },
     "execution_count": 28,
     "metadata": {},
     "output_type": "execute_result"
    }
   ],
   "source": [
    "final_df.duplicated(subset='id').sum()"
   ]
  },
  {
   "cell_type": "code",
   "execution_count": 29,
   "id": "6277146d-2c3b-4735-9343-e6f256b3fa0b",
   "metadata": {},
   "outputs": [],
   "source": [
    "final_df.to_csv('Data/final_results_NY_pizza.csv.gz', compression='gzip',index=False)"
   ]
  },
  {
   "cell_type": "code",
   "execution_count": null,
   "id": "901c3641-4b9d-457f-8c79-5cc0dd9d7f82",
   "metadata": {},
   "outputs": [],
   "source": []
  }
 ],
 "metadata": {
  "kernelspec": {
   "display_name": "Python (dojo-env)",
   "language": "python",
   "name": "dojo-env"
  },
  "language_info": {
   "codemirror_mode": {
    "name": "ipython",
    "version": 3
   },
   "file_extension": ".py",
   "mimetype": "text/x-python",
   "name": "python",
   "nbconvert_exporter": "python",
   "pygments_lexer": "ipython3",
   "version": "3.11.4"
  },
  "widgets": {
   "application/vnd.jupyter.widget-state+json": {
    "state": {
     "081f38771f09414ea383098b5a12c04c": {
      "model_module": "@jupyter-widgets/controls",
      "model_module_version": "2.0.0",
      "model_name": "FloatProgressModel",
      "state": {
       "bar_style": "danger",
       "layout": "IPY_MODEL_4c7f968aa9464af081105cbe5337ec19",
       "max": 43,
       "style": "IPY_MODEL_b632c2469efb4d23910071ac79adf7e4"
      }
     },
     "087a0bbc2fa54797aa9eab4050836c6a": {
      "model_module": "@jupyter-widgets/base",
      "model_module_version": "2.0.0",
      "model_name": "LayoutModel",
      "state": {}
     },
     "0c4e239e4cd94377986453589320b65a": {
      "model_module": "@jupyter-widgets/base",
      "model_module_version": "2.0.0",
      "model_name": "LayoutModel",
      "state": {}
     },
     "0de24b8f647d40518df52ed5caca1668": {
      "model_module": "@jupyter-widgets/base",
      "model_module_version": "2.0.0",
      "model_name": "LayoutModel",
      "state": {}
     },
     "145e9944f80b40c28600346b70f1b0a6": {
      "model_module": "@jupyter-widgets/base",
      "model_module_version": "2.0.0",
      "model_name": "LayoutModel",
      "state": {}
     },
     "1f290884bfe14f73b1820c7aa03c6b60": {
      "model_module": "@jupyter-widgets/base",
      "model_module_version": "2.0.0",
      "model_name": "LayoutModel",
      "state": {}
     },
     "3137488198de419a917b934f41779b8c": {
      "model_module": "@jupyter-widgets/controls",
      "model_module_version": "2.0.0",
      "model_name": "HTMLModel",
      "state": {
       "layout": "IPY_MODEL_0de24b8f647d40518df52ed5caca1668",
       "style": "IPY_MODEL_c43f70f81040469788f261c6652e9eeb",
       "value": "100%"
      }
     },
     "48e86774aba44c189ab584080eaacaa4": {
      "model_module": "@jupyter-widgets/controls",
      "model_module_version": "2.0.0",
      "model_name": "HBoxModel",
      "state": {
       "children": [
        "IPY_MODEL_3137488198de419a917b934f41779b8c",
        "IPY_MODEL_d264ede42139484eaf8f57ccc270f8c8",
        "IPY_MODEL_561f6d164fd24bd1bd20a8d8f0260c9b"
       ],
       "layout": "IPY_MODEL_145e9944f80b40c28600346b70f1b0a6"
      }
     },
     "4c7f968aa9464af081105cbe5337ec19": {
      "model_module": "@jupyter-widgets/base",
      "model_module_version": "2.0.0",
      "model_name": "LayoutModel",
      "state": {}
     },
     "561f6d164fd24bd1bd20a8d8f0260c9b": {
      "model_module": "@jupyter-widgets/controls",
      "model_module_version": "2.0.0",
      "model_name": "HTMLModel",
      "state": {
       "layout": "IPY_MODEL_afd26cfe4ddc4485964b231e4bd995a7",
       "style": "IPY_MODEL_fec36918526d4b8ca88ab7880360a233",
       "value": " 43/43 [00:57&lt;00:00,  1.72s/it]"
      }
     },
     "81892d7087b74294b59d9caffe94a424": {
      "model_module": "@jupyter-widgets/controls",
      "model_module_version": "2.0.0",
      "model_name": "HTMLModel",
      "state": {
       "layout": "IPY_MODEL_ed9fee44dd4442649940d97b05c13f24",
       "style": "IPY_MODEL_8e5509cd7ac44d888ce203c2edd15829",
       "value": "  0%"
      }
     },
     "8e5509cd7ac44d888ce203c2edd15829": {
      "model_module": "@jupyter-widgets/controls",
      "model_module_version": "2.0.0",
      "model_name": "HTMLStyleModel",
      "state": {
       "description_width": "",
       "font_size": null,
       "text_color": null
      }
     },
     "9c23c58ae78b4c909815b81a33194f95": {
      "model_module": "@jupyter-widgets/controls",
      "model_module_version": "2.0.0",
      "model_name": "HBoxModel",
      "state": {
       "children": [
        "IPY_MODEL_81892d7087b74294b59d9caffe94a424",
        "IPY_MODEL_081f38771f09414ea383098b5a12c04c",
        "IPY_MODEL_e06b3dd24c6249f4b0c9e37bf318b368"
       ],
       "layout": "IPY_MODEL_087a0bbc2fa54797aa9eab4050836c6a"
      }
     },
     "afd26cfe4ddc4485964b231e4bd995a7": {
      "model_module": "@jupyter-widgets/base",
      "model_module_version": "2.0.0",
      "model_name": "LayoutModel",
      "state": {}
     },
     "b632c2469efb4d23910071ac79adf7e4": {
      "model_module": "@jupyter-widgets/controls",
      "model_module_version": "2.0.0",
      "model_name": "ProgressStyleModel",
      "state": {
       "description_width": ""
      }
     },
     "c43f70f81040469788f261c6652e9eeb": {
      "model_module": "@jupyter-widgets/controls",
      "model_module_version": "2.0.0",
      "model_name": "HTMLStyleModel",
      "state": {
       "description_width": "",
       "font_size": null,
       "text_color": null
      }
     },
     "d264ede42139484eaf8f57ccc270f8c8": {
      "model_module": "@jupyter-widgets/controls",
      "model_module_version": "2.0.0",
      "model_name": "FloatProgressModel",
      "state": {
       "bar_style": "success",
       "layout": "IPY_MODEL_1f290884bfe14f73b1820c7aa03c6b60",
       "max": 43,
       "style": "IPY_MODEL_df4436b55dbc41088466d6a59a4335c9",
       "value": 43
      }
     },
     "df4436b55dbc41088466d6a59a4335c9": {
      "model_module": "@jupyter-widgets/controls",
      "model_module_version": "2.0.0",
      "model_name": "ProgressStyleModel",
      "state": {
       "description_width": ""
      }
     },
     "e06b3dd24c6249f4b0c9e37bf318b368": {
      "model_module": "@jupyter-widgets/controls",
      "model_module_version": "2.0.0",
      "model_name": "HTMLModel",
      "state": {
       "layout": "IPY_MODEL_0c4e239e4cd94377986453589320b65a",
       "style": "IPY_MODEL_fffd43d7e8b44fe5a15daf137f537e2a",
       "value": " 0/43 [00:00&lt;?, ?it/s]"
      }
     },
     "ed9fee44dd4442649940d97b05c13f24": {
      "model_module": "@jupyter-widgets/base",
      "model_module_version": "2.0.0",
      "model_name": "LayoutModel",
      "state": {}
     },
     "fec36918526d4b8ca88ab7880360a233": {
      "model_module": "@jupyter-widgets/controls",
      "model_module_version": "2.0.0",
      "model_name": "HTMLStyleModel",
      "state": {
       "description_width": "",
       "font_size": null,
       "text_color": null
      }
     },
     "fffd43d7e8b44fe5a15daf137f537e2a": {
      "model_module": "@jupyter-widgets/controls",
      "model_module_version": "2.0.0",
      "model_name": "HTMLStyleModel",
      "state": {
       "description_width": "",
       "font_size": null,
       "text_color": null
      }
     }
    },
    "version_major": 2,
    "version_minor": 0
   }
  }
 },
 "nbformat": 4,
 "nbformat_minor": 5
}
